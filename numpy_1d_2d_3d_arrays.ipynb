{
 "cells": [
  {
   "cell_type": "code",
   "execution_count": 12,
   "id": "ec6d09cc",
   "metadata": {},
   "outputs": [],
   "source": [
    "import numpy as np"
   ]
  },
  {
   "cell_type": "code",
   "execution_count": 13,
   "id": "9e00ceda",
   "metadata": {},
   "outputs": [
    {
     "data": {
      "text/plain": [
       "'2.3.1'"
      ]
     },
     "execution_count": 13,
     "metadata": {},
     "output_type": "execute_result"
    }
   ],
   "source": [
    "np.__version__"
   ]
  },
  {
   "cell_type": "markdown",
   "id": "1f8ea409",
   "metadata": {},
   "source": [
    "Create and Read"
   ]
  },
  {
   "cell_type": "markdown",
   "id": "133716e7",
   "metadata": {},
   "source": [
    "1D Array"
   ]
  },
  {
   "cell_type": "code",
   "execution_count": 14,
   "id": "24be6f97",
   "metadata": {},
   "outputs": [
    {
     "data": {
      "text/plain": [
       "array([1, 2, 3, 4, 5, 6])"
      ]
     },
     "execution_count": 14,
     "metadata": {},
     "output_type": "execute_result"
    }
   ],
   "source": [
    "arr1 = np.array([1, 2, 3, 4, 5, 6])\n",
    "arr1"
   ]
  },
  {
   "cell_type": "code",
   "execution_count": 15,
   "id": "ab4de211",
   "metadata": {},
   "outputs": [
    {
     "data": {
      "text/plain": [
       "numpy.ndarray"
      ]
     },
     "execution_count": 15,
     "metadata": {},
     "output_type": "execute_result"
    }
   ],
   "source": [
    "type(arr1)"
   ]
  },
  {
   "cell_type": "code",
   "execution_count": 16,
   "id": "0d634753",
   "metadata": {},
   "outputs": [
    {
     "data": {
      "text/plain": [
       "(6,)"
      ]
     },
     "execution_count": 16,
     "metadata": {},
     "output_type": "execute_result"
    }
   ],
   "source": [
    "arr1.shape"
   ]
  },
  {
   "cell_type": "code",
   "execution_count": 17,
   "id": "53bf35e3",
   "metadata": {},
   "outputs": [
    {
     "data": {
      "text/plain": [
       "dtype('int64')"
      ]
     },
     "execution_count": 17,
     "metadata": {},
     "output_type": "execute_result"
    }
   ],
   "source": [
    "arr1.dtype"
   ]
  },
  {
   "cell_type": "code",
   "execution_count": 18,
   "id": "68e1d917",
   "metadata": {},
   "outputs": [
    {
     "data": {
      "text/plain": [
       "1"
      ]
     },
     "execution_count": 18,
     "metadata": {},
     "output_type": "execute_result"
    }
   ],
   "source": [
    "arr1.ndim"
   ]
  },
  {
   "cell_type": "code",
   "execution_count": 19,
   "id": "3d9b9f73",
   "metadata": {},
   "outputs": [
    {
     "data": {
      "text/plain": [
       "6"
      ]
     },
     "execution_count": 19,
     "metadata": {},
     "output_type": "execute_result"
    }
   ],
   "source": [
    "arr1.size"
   ]
  },
  {
   "cell_type": "markdown",
   "id": "0048796d",
   "metadata": {},
   "source": [
    "2D Array"
   ]
  },
  {
   "cell_type": "code",
   "execution_count": 21,
   "id": "305ad2b4",
   "metadata": {},
   "outputs": [
    {
     "data": {
      "text/plain": [
       "array([[1, 4, 5],\n",
       "       [6, 7, 4]])"
      ]
     },
     "execution_count": 21,
     "metadata": {},
     "output_type": "execute_result"
    }
   ],
   "source": [
    "arr2 = np.array([[1, 4, 5], [6, 7, 4]])\n",
    "arr2"
   ]
  },
  {
   "cell_type": "code",
   "execution_count": 22,
   "id": "6e761363",
   "metadata": {},
   "outputs": [
    {
     "data": {
      "text/plain": [
       "2"
      ]
     },
     "execution_count": 22,
     "metadata": {},
     "output_type": "execute_result"
    }
   ],
   "source": [
    "arr2.ndim"
   ]
  },
  {
   "cell_type": "code",
   "execution_count": null,
   "id": "62ba3375",
   "metadata": {},
   "outputs": [
    {
     "data": {
      "text/plain": [
       "(2, 3)"
      ]
     },
     "execution_count": 23,
     "metadata": {},
     "output_type": "execute_result"
    }
   ],
   "source": [
    "arr2.shape # (row, col)"
   ]
  },
  {
   "cell_type": "code",
   "execution_count": 24,
   "id": "f23eca01",
   "metadata": {},
   "outputs": [
    {
     "data": {
      "text/plain": [
       "dtype('int64')"
      ]
     },
     "execution_count": 24,
     "metadata": {},
     "output_type": "execute_result"
    }
   ],
   "source": [
    "arr2.dtype"
   ]
  },
  {
   "cell_type": "code",
   "execution_count": 25,
   "id": "9d7f27df",
   "metadata": {},
   "outputs": [
    {
     "data": {
      "text/plain": [
       "6"
      ]
     },
     "execution_count": 25,
     "metadata": {},
     "output_type": "execute_result"
    }
   ],
   "source": [
    "arr1.size"
   ]
  },
  {
   "cell_type": "markdown",
   "id": "60a87bc4",
   "metadata": {},
   "source": [
    "3D Array"
   ]
  },
  {
   "cell_type": "code",
   "execution_count": 32,
   "id": "3fe16a53",
   "metadata": {},
   "outputs": [
    {
     "data": {
      "text/plain": [
       "array([[[1, 4, 5],\n",
       "        [6, 7, 4]],\n",
       "\n",
       "       [[3, 5, 4],\n",
       "        [5, 8, 7]],\n",
       "\n",
       "       [[1, 4, 5],\n",
       "        [6, 7, 4]]])"
      ]
     },
     "execution_count": 32,
     "metadata": {},
     "output_type": "execute_result"
    }
   ],
   "source": [
    "arr3 = np.array([[[1, 4, 5], [6, 7, 4]], [[3, 5, 4], [5, 8, 7]], [[1, 4, 5], [6, 7, 4]]])\n",
    "arr3"
   ]
  },
  {
   "cell_type": "code",
   "execution_count": 33,
   "id": "08c90d59",
   "metadata": {},
   "outputs": [
    {
     "data": {
      "text/plain": [
       "3"
      ]
     },
     "execution_count": 33,
     "metadata": {},
     "output_type": "execute_result"
    }
   ],
   "source": [
    "arr3.ndim"
   ]
  },
  {
   "cell_type": "code",
   "execution_count": 34,
   "id": "3346cf70",
   "metadata": {},
   "outputs": [
    {
     "data": {
      "text/plain": [
       "(3, 2, 3)"
      ]
     },
     "execution_count": 34,
     "metadata": {},
     "output_type": "execute_result"
    }
   ],
   "source": [
    "arr3.shape # (layers, rowsm col)"
   ]
  },
  {
   "cell_type": "code",
   "execution_count": 35,
   "id": "48ab2b34",
   "metadata": {},
   "outputs": [
    {
     "data": {
      "text/plain": [
       "18"
      ]
     },
     "execution_count": 35,
     "metadata": {},
     "output_type": "execute_result"
    }
   ],
   "source": [
    "arr3.size"
   ]
  },
  {
   "cell_type": "markdown",
   "id": "1102d54b",
   "metadata": {},
   "source": [
    "Create random array"
   ]
  },
  {
   "cell_type": "code",
   "execution_count": 37,
   "id": "684ab0a5",
   "metadata": {},
   "outputs": [
    {
     "data": {
      "text/plain": [
       "array([[[0.84414756, 0.56809818, 0.92870333],\n",
       "        [0.19959894, 0.35611726, 0.80038343]],\n",
       "\n",
       "       [[0.88492716, 0.68539223, 0.0842324 ],\n",
       "        [0.58408511, 0.69689029, 0.22708035]],\n",
       "\n",
       "       [[0.65381178, 0.93305421, 0.72289772],\n",
       "        [0.73924299, 0.0230481 , 0.38174569]]])"
      ]
     },
     "execution_count": 37,
     "metadata": {},
     "output_type": "execute_result"
    }
   ],
   "source": [
    "randomArr = np.random.rand(3, 2, 3)\n",
    "randomArr"
   ]
  },
  {
   "cell_type": "code",
   "execution_count": 38,
   "id": "5b51042f",
   "metadata": {},
   "outputs": [
    {
     "data": {
      "text/plain": [
       "dtype('float64')"
      ]
     },
     "execution_count": 38,
     "metadata": {},
     "output_type": "execute_result"
    }
   ],
   "source": [
    "randomArr.dtype"
   ]
  },
  {
   "cell_type": "code",
   "execution_count": 40,
   "id": "df230427",
   "metadata": {},
   "outputs": [
    {
     "data": {
      "text/plain": [
       "array([[[0., 0., 0.],\n",
       "        [0., 0., 0.]],\n",
       "\n",
       "       [[0., 0., 0.],\n",
       "        [0., 0., 0.]],\n",
       "\n",
       "       [[0., 0., 0.],\n",
       "        [0., 0., 0.]]])"
      ]
     },
     "execution_count": 40,
     "metadata": {},
     "output_type": "execute_result"
    }
   ],
   "source": [
    "zeroes = np.zeros((3, 2, 3))\n",
    "zeroes"
   ]
  },
  {
   "cell_type": "code",
   "execution_count": 41,
   "id": "86e99954",
   "metadata": {},
   "outputs": [
    {
     "data": {
      "text/plain": [
       "3"
      ]
     },
     "execution_count": 41,
     "metadata": {},
     "output_type": "execute_result"
    }
   ],
   "source": [
    "zeroes.ndim"
   ]
  },
  {
   "cell_type": "code",
   "execution_count": 43,
   "id": "46b5b1ad",
   "metadata": {},
   "outputs": [
    {
     "data": {
      "text/plain": [
       "array([[[9, 9, 9],\n",
       "        [9, 9, 9]],\n",
       "\n",
       "       [[9, 9, 9],\n",
       "        [9, 9, 9]],\n",
       "\n",
       "       [[9, 9, 9],\n",
       "        [9, 9, 9]]])"
      ]
     },
     "execution_count": 43,
     "metadata": {},
     "output_type": "execute_result"
    }
   ],
   "source": [
    "full = np.full((3, 2, 3), 9)\n",
    "full"
   ]
  },
  {
   "cell_type": "code",
   "execution_count": 44,
   "id": "37cd3e95",
   "metadata": {},
   "outputs": [
    {
     "data": {
      "text/plain": [
       "array([[[1., 1., 1.],\n",
       "        [1., 1., 1.]],\n",
       "\n",
       "       [[1., 1., 1.],\n",
       "        [1., 1., 1.]],\n",
       "\n",
       "       [[1., 1., 1.],\n",
       "        [1., 1., 1.]]])"
      ]
     },
     "execution_count": 44,
     "metadata": {},
     "output_type": "execute_result"
    }
   ],
   "source": [
    "ones = np.ones((3,2,3))\n",
    "ones"
   ]
  },
  {
   "cell_type": "code",
   "execution_count": 45,
   "id": "e733a728",
   "metadata": {},
   "outputs": [
    {
     "data": {
      "text/plain": [
       "array([[[1, 4, 5],\n",
       "        [6, 7, 4]],\n",
       "\n",
       "       [[3, 5, 4],\n",
       "        [5, 8, 7]],\n",
       "\n",
       "       [[1, 4, 5],\n",
       "        [6, 7, 4]]])"
      ]
     },
     "execution_count": 45,
     "metadata": {},
     "output_type": "execute_result"
    }
   ],
   "source": [
    "arr3"
   ]
  },
  {
   "cell_type": "code",
   "execution_count": 56,
   "id": "e7a443d8",
   "metadata": {},
   "outputs": [
    {
     "data": {
      "text/plain": [
       "array([[1, 4, 5],\n",
       "       [6, 7, 4]])"
      ]
     },
     "execution_count": 56,
     "metadata": {},
     "output_type": "execute_result"
    }
   ],
   "source": [
    "arr3[0]"
   ]
  },
  {
   "cell_type": "code",
   "execution_count": 57,
   "id": "3f069ba1",
   "metadata": {},
   "outputs": [
    {
     "data": {
      "text/plain": [
       "array([[[1, 4, 5],\n",
       "        [6, 7, 4]],\n",
       "\n",
       "       [[3, 5, 4],\n",
       "        [5, 8, 7]]])"
      ]
     },
     "execution_count": 57,
     "metadata": {},
     "output_type": "execute_result"
    }
   ],
   "source": [
    "arr3[0:2]"
   ]
  },
  {
   "cell_type": "code",
   "execution_count": 58,
   "id": "ac54acf6",
   "metadata": {},
   "outputs": [
    {
     "data": {
      "text/plain": [
       "array([[1, 4, 5],\n",
       "       [6, 7, 4]])"
      ]
     },
     "execution_count": 58,
     "metadata": {},
     "output_type": "execute_result"
    }
   ],
   "source": [
    "arr3[-1]"
   ]
  },
  {
   "cell_type": "code",
   "execution_count": 61,
   "id": "3b84647d",
   "metadata": {},
   "outputs": [
    {
     "data": {
      "text/plain": [
       "np.int64(5)"
      ]
     },
     "execution_count": 61,
     "metadata": {},
     "output_type": "execute_result"
    }
   ],
   "source": [
    "arr3[1][0][1]"
   ]
  },
  {
   "cell_type": "markdown",
   "id": "80f504ff",
   "metadata": {},
   "source": [
    "Update & Delete"
   ]
  },
  {
   "cell_type": "code",
   "execution_count": 63,
   "id": "da406987",
   "metadata": {},
   "outputs": [],
   "source": [
    "a1 = np.random.rand(2, 3, 2)\n",
    "a2 = np.random.rand(2, 3, 2)"
   ]
  },
  {
   "cell_type": "code",
   "execution_count": 67,
   "id": "b2ec3f2a",
   "metadata": {},
   "outputs": [
    {
     "data": {
      "text/plain": [
       "array([[[0.93698277, 0.43173959],\n",
       "        [0.65321809, 0.49420491],\n",
       "        [0.37187257, 0.76515563]],\n",
       "\n",
       "       [[0.21403138, 0.44670801],\n",
       "        [0.90466305, 0.92887255],\n",
       "        [0.19850446, 0.55534046]]])"
      ]
     },
     "execution_count": 67,
     "metadata": {},
     "output_type": "execute_result"
    }
   ],
   "source": [
    "a1"
   ]
  },
  {
   "cell_type": "code",
   "execution_count": 68,
   "id": "92c6d690",
   "metadata": {},
   "outputs": [
    {
     "data": {
      "text/plain": [
       "array([[[0.79626438, 0.26552365],\n",
       "        [0.54414861, 0.94795619],\n",
       "        [0.75147892, 0.05592656]],\n",
       "\n",
       "       [[0.1240672 , 0.23630256],\n",
       "        [0.07223768, 0.91374655],\n",
       "        [0.39320067, 0.5456503 ]]])"
      ]
     },
     "execution_count": 68,
     "metadata": {},
     "output_type": "execute_result"
    }
   ],
   "source": [
    "a2"
   ]
  },
  {
   "cell_type": "markdown",
   "id": "ee1aeefe",
   "metadata": {},
   "source": [
    "Basic Math Operations"
   ]
  },
  {
   "cell_type": "code",
   "execution_count": 69,
   "id": "9726fec2",
   "metadata": {},
   "outputs": [
    {
     "data": {
      "text/plain": [
       "array([[[1.73324715, 0.69726324],\n",
       "        [1.1973667 , 1.44216109],\n",
       "        [1.12335149, 0.82108219]],\n",
       "\n",
       "       [[0.33809858, 0.68301057],\n",
       "        [0.97690073, 1.8426191 ],\n",
       "        [0.59170513, 1.10099076]]])"
      ]
     },
     "execution_count": 69,
     "metadata": {},
     "output_type": "execute_result"
    }
   ],
   "source": [
    "np.add(a1, a2)"
   ]
  },
  {
   "cell_type": "code",
   "execution_count": 70,
   "id": "026fd72d",
   "metadata": {},
   "outputs": [
    {
     "data": {
      "text/plain": [
       "array([[[ 0.14071839,  0.16621595],\n",
       "        [ 0.10906948, -0.45375128],\n",
       "        [-0.37960634,  0.70922908]],\n",
       "\n",
       "       [[ 0.08996418,  0.21040545],\n",
       "        [ 0.83242536,  0.015126  ],\n",
       "        [-0.1946962 ,  0.00969016]]])"
      ]
     },
     "execution_count": 70,
     "metadata": {},
     "output_type": "execute_result"
    }
   ],
   "source": [
    "np.subtract(a1, a2)"
   ]
  },
  {
   "cell_type": "code",
   "execution_count": 71,
   "id": "a9575092",
   "metadata": {},
   "outputs": [
    {
     "data": {
      "text/plain": [
       "array([[[ 1.17672321,  1.62599301],\n",
       "        [ 1.20044061,  0.52133729],\n",
       "        [ 0.4948543 , 13.68143642]],\n",
       "\n",
       "       [[ 1.72512463,  1.89040698],\n",
       "        [12.52342282,  1.01655382],\n",
       "        [ 0.50484264,  1.01775892]]])"
      ]
     },
     "execution_count": 71,
     "metadata": {},
     "output_type": "execute_result"
    }
   ],
   "source": [
    "np.divide(a1, a2)"
   ]
  },
  {
   "cell_type": "code",
   "execution_count": null,
   "id": "7c1913f6",
   "metadata": {},
   "outputs": [],
   "source": []
  }
 ],
 "metadata": {
  "kernelspec": {
   "display_name": "stock_prediction",
   "language": "python",
   "name": "python3"
  },
  "language_info": {
   "codemirror_mode": {
    "name": "ipython",
    "version": 3
   },
   "file_extension": ".py",
   "mimetype": "text/x-python",
   "name": "python",
   "nbconvert_exporter": "python",
   "pygments_lexer": "ipython3",
   "version": "3.11.2"
  }
 },
 "nbformat": 4,
 "nbformat_minor": 5
}
